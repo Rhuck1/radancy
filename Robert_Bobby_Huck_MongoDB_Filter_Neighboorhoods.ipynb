{
 "cells": [
  {
   "cell_type": "code",
   "execution_count": 27,
   "id": "6b423064-5b15-40ee-9cbb-cfda11f9c09d",
   "metadata": {},
   "outputs": [],
   "source": [
    "from pymongo import MongoClient\n",
    "client = MongoClient('localhost', 27017)\n",
    "db = client['temp_db']\n",
    "collection_table = db['users']"
   ]
  },
  {
   "cell_type": "code",
   "execution_count": 29,
   "id": "436d6025-2741-48b7-ae1b-787b7767c07c",
   "metadata": {},
   "outputs": [],
   "source": [
    "users = [\n",
    "    {\n",
    "        \"_id\" : {\"oid\": \"5d011c94ee66e13d34c7c388\"},\n",
    "        \"userName\" : \"steve\",\n",
    "        \"email\" : \"stevenoname@radancy.com\",\n",
    "        \"password\" : \"affdsg342\",\n",
    "        \"houses\" : [\n",
    "            {\n",
    "                \"name\" : \"Bungalow\",\n",
    "                \"neighborhood\" : \"Marigny\"\n",
    "            },\n",
    "            {\n",
    "                \"name\" : \"Shotgun\",\n",
    "                \"neighborhood\" : \"Uptown\"\n",
    "            }\n",
    "        ]\n",
    "    },\n",
    "\n",
    "    {\n",
    "        \"_id\" : {\"oid\": \"5d011c94ee66e13d34c7c387\"},\n",
    "        \"userName\" : \"alex\",\n",
    "        \"email\" : \"alexnoname@radancy.com\",\n",
    "        \"password\" : \"67834783ujk\",\n",
    "        \"houses\" : [\n",
    "            {\n",
    "                \"name\" : \"Mansion\",\n",
    "                \"neighborhood\" : \"Garden District\"\n",
    "            },\n",
    "            {\n",
    "                \"name\" : \"Townhouse\",\n",
    "                \"neighborhood\" : \"Uptown\"\n",
    "            }\n",
    "        ]\n",
    "    },\n",
    "\n",
    "]"
   ]
  },
  {
   "cell_type": "code",
   "execution_count": 30,
   "id": "2aa0b992-c663-4425-ac0e-1fd208545682",
   "metadata": {},
   "outputs": [],
   "source": [
    "res = collection_table.insert_many(users)"
   ]
  },
  {
   "cell_type": "code",
   "execution_count": 53,
   "id": "921d0e0f-7738-45a4-b72d-0c3e04cc8ca1",
   "metadata": {},
   "outputs": [
    {
     "data": {
      "text/plain": [
       "2"
      ]
     },
     "execution_count": 53,
     "metadata": {},
     "output_type": "execute_result"
    }
   ],
   "source": [
    "collection_table.count_documents({})"
   ]
  },
  {
   "cell_type": "code",
   "execution_count": 98,
   "id": "b01e14cd-f915-4f4c-b030-68f6c3211401",
   "metadata": {},
   "outputs": [
    {
     "name": "stdout",
     "output_type": "stream",
     "text": [
      "{'_id': {'oid': '5d011c94ee66e13d34c7c388'}, 'userName': 'steve', 'email': 'stevenoname@radancy.com', 'password': 'affdsg342', 'houses': [{'name': 'Bungalow', 'neighborhood': 'Marigny'}, {'name': 'Shotgun', 'neighborhood': 'Uptown'}]}\n",
      "{'_id': {'oid': '5d011c94ee66e13d34c7c387'}, 'userName': 'alex', 'email': 'alexnoname@radancy.com', 'password': '67834783ujk', 'houses': [{'name': 'Mansion', 'neighborhood': 'Garden District'}, {'name': 'Townhouse', 'neighborhood': 'Uptown'}]}\n"
     ]
    }
   ],
   "source": [
    "myquery = {\"houses.neighborhood\": \"Uptown\"}\n",
    "\n",
    "mydoc = collection_table.find(myquery)\n",
    "\n",
    "for x in mydoc:\n",
    "    print(x)"
   ]
  }
 ],
 "metadata": {
  "kernelspec": {
   "display_name": "Python 3",
   "language": "python",
   "name": "python3"
  },
  "language_info": {
   "codemirror_mode": {
    "name": "ipython",
    "version": 3
   },
   "file_extension": ".py",
   "mimetype": "text/x-python",
   "name": "python",
   "nbconvert_exporter": "python",
   "pygments_lexer": "ipython3",
   "version": "3.7.9"
  }
 },
 "nbformat": 4,
 "nbformat_minor": 5
}
